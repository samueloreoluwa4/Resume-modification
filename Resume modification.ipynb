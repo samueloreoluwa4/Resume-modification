{
 "cells": [
  {
   "cell_type": "code",
   "execution_count": 1,
   "metadata": {},
   "outputs": [],
   "source": [
    "import pandas as pd\n",
    "import numpy as np"
   ]
  },
  {
   "cell_type": "code",
   "execution_count": 2,
   "metadata": {},
   "outputs": [
    {
     "name": "stdout",
     "output_type": "stream",
     "text": [
      "PERSONAL INFORMATION\n",
      "\n",
      "Last name:  AKINLABI \n",
      "First name:  Samuel \n",
      "Phone number:  07012659092\n",
      "Location:  Lagos\n",
      "E-mail:  samueloreoluwa4@gmail.com\n",
      "EDUCATIONAL BACKGROUND\n",
      "\n",
      "Enter degree of program: B Eng.\n",
      "Program name: Aeronautical and Astronautical Engineering \n",
      "Name of School: Meara State University, Malete\n",
      "Year of Admission: 2017\n",
      "Year of Graduation:2022\n",
      "WORK EXPERIENCE\n",
      "Have you had any work experience: Yes/No\n",
      "yes\n",
      "Enter the position in your resent job:Teacher\n",
      "Enter the name of the organization you worked in:Belgian International School\n",
      "How many years of experience do you have(specify with digit):1\n",
      "Please type in your work summary:Teaching, although hard but easy to practice. And with my years of experience, I have been able to acquire knowledge on leadership and team work. I hope this knowledge will he useful in years to come\n",
      "Top Achievement during your working period:None\n",
      "SKILLS\n",
      "\n",
      "Skills: (use ',' to seperate the skill from another):\n",
      "Python, Machine learning, MATLAB, Microsoft Word, Microsoft Excel\n"
     ]
    }
   ],
   "source": [
    "count = 1\n",
    "name1 = []\n",
    "name2 = []\n",
    "phone = []\n",
    "loc = []\n",
    "mail = []\n",
    "degr = []\n",
    "prog = []\n",
    "uni = []\n",
    "yr1 = []\n",
    "yr2 = []\n",
    "pos = []\n",
    "org = []\n",
    "yr = []\n",
    "expr = []\n",
    "Sum = []\n",
    "obj = []\n",
    "a = []\n",
    "SK = []\n",
    "SKL = []\n",
    "\n",
    "print(\"PERSONAL INFORMATION\\n\")\n",
    "lname = input(\"Last name:  \")\n",
    "name1.append(lname)\n",
    "fname = input(\"First name:  \")\n",
    "name2.append(fname)\n",
    "Tel = input(\"Phone number:  \")\n",
    "phone.append(Tel)\n",
    "location = input(\"Location:  \")\n",
    "loc.append(location)\n",
    "email = input(\"E-mail:  \")\n",
    "mail.append(email)\n",
    "\n",
    "print(\"EDUCATIONAL BACKGROUND\\n\")\n",
    "deg = input(\"Enter degree of program: \")\n",
    "degr.append(deg)\n",
    "pname = input(\"Program name: \")\n",
    "prog.append(pname)\n",
    "uname = input(\"Name of School: \")\n",
    "uni.append(uname)\n",
    "year1 = input(\"Year of Admission: \")\n",
    "yr1.append(year1)\n",
    "year2 = input(\"Year of Graduation:\")\n",
    "yr2.append(year2)\n",
    "\n",
    "print(\"WORK EXPERIENCE\")\n",
    "wrk = input(\"Have you had any work experience: Yes/No\\n\")\n",
    "if wrk == \"yes\":\n",
    "    position = input('Enter the position in your resent job:')\n",
    "    pos.append(position)\n",
    "    organization = input('Enter the name of the organization you worked in:')\n",
    "    org.append(organization)\n",
    "    years = input(\"How many years of experience do you have(specify with digit):\")\n",
    "    yr.append(years)\n",
    "    work = input('Please type in your work summary:')\n",
    "    Sum.append(work)\n",
    "    tp_ach = input('Top Achievement during your working period:')\n",
    "    a.append(tp_ach)\n",
    "    obj.append('None')\n",
    "else:\n",
    "    works = input('Please type in your objective/aim for the work:')\n",
    "    obj.append(works)\n",
    "    pos.append('None')\n",
    "    org.append('None')\n",
    "    yr.append('None')\n",
    "    Sum.append('None')\n",
    "    a.append('None')\n",
    "\n",
    "print(\"SKILLS\\n\")\n",
    "skills = list(input(\"Skills: (use ',' to seperate the skill from another):\\n\").split(\", \"))\n",
    "SK.append(skills)\n",
    "SKL.append(fname)"
   ]
  },
  {
   "cell_type": "code",
   "execution_count": null,
   "metadata": {},
   "outputs": [],
   "source": [
    "# To add another personnal information, run this block again\n",
    "while True:\n",
    "    r = input(\"Do you want to input another personal information(yes/no): \")\n",
    "    if r == 'yes':\n",
    "        count += 1\n",
    "        print(\"PERSONAL INFORMATION\\n\")\n",
    "        lname = input(\"Last name:  \")\n",
    "        name1.append(lname)\n",
    "        fname = input(\"First name:  \")\n",
    "        name2.append(fname)\n",
    "        Tel = input(\"Phone number:  \")\n",
    "        phone.append(Tel)\n",
    "        location = input(\"Location:  \")\n",
    "        loc.append(location)\n",
    "        email = input(\"E-mail:  \")\n",
    "        mail.append(email)\n",
    "        \n",
    "        print(\"EDUCATIONAL BACKGROUND\\n\")\n",
    "        deg = input(\"Enter degree of program: \")\n",
    "        degr.append(deg)\n",
    "        pname = input(\"Program name: \")\n",
    "        prog.append(pname)\n",
    "        uname = input(\"Name of School: \")\n",
    "        uni.append(uname)\n",
    "        year1 = input(\"Year of Admission: \")\n",
    "        yr1.append(year1)\n",
    "        year2 = input(\"Year of Graduation:\")\n",
    "        yr2.append(year2)\n",
    "        \n",
    "        print(\"WORK EXPERIENCE\")\n",
    "        wrk = input(\"Have you had any work experience: Yes/No\\n\")\n",
    "        if wrk == \"yes\":\n",
    "            position = input('Enter the position in your resent job:')\n",
    "            pos.append(position)\n",
    "            organization = input('Enter the name of the organization you worked in:')\n",
    "            org.append(organization)\n",
    "            years = input(\"Enter the number of year spent in the job:\")\n",
    "            yr.append(years)\n",
    "            work = input('Please type in your work summary:')\n",
    "            Sum.append(work)\n",
    "            tp_ach = input('Top Achievement during your working period:')\n",
    "            a.append(tp_ach)\n",
    "            obj.append('None')\n",
    "            \n",
    "        else:\n",
    "            works = input('Please type in your objective/aim for the work:')\n",
    "            obj.append(works)\n",
    "            pos.append('None')\n",
    "            org.append('None')\n",
    "            yr.append('None')\n",
    "            Sum.append('None')\n",
    "            a.append('None')\n",
    "            \n",
    "        print(\"SKILLS\\n\")\n",
    "        skills = list(input(\"Skills: (use ',' to seperate the skill from another):\\n\").split(\", \"))\n",
    "        SK.append(skills)\n",
    "        SKL.append(fname)\n",
    "    else:\n",
    "        break"
   ]
  },
  {
   "cell_type": "code",
   "execution_count": 3,
   "metadata": {
    "scrolled": true
   },
   "outputs": [
    {
     "data": {
      "text/html": [
       "<div>\n",
       "<style scoped>\n",
       "    .dataframe tbody tr th:only-of-type {\n",
       "        vertical-align: middle;\n",
       "    }\n",
       "\n",
       "    .dataframe tbody tr th {\n",
       "        vertical-align: top;\n",
       "    }\n",
       "\n",
       "    .dataframe thead th {\n",
       "        text-align: right;\n",
       "    }\n",
       "</style>\n",
       "<table border=\"1\" class=\"dataframe\">\n",
       "  <thead>\n",
       "    <tr style=\"text-align: right;\">\n",
       "      <th></th>\n",
       "      <th>Last_name</th>\n",
       "      <th>First_name</th>\n",
       "      <th>Phone_number</th>\n",
       "      <th>Location</th>\n",
       "      <th>E-mail</th>\n",
       "    </tr>\n",
       "  </thead>\n",
       "  <tbody>\n",
       "    <tr>\n",
       "      <th>0</th>\n",
       "      <td>AKINLABI</td>\n",
       "      <td>Samuel</td>\n",
       "      <td>07012659092</td>\n",
       "      <td>Lagos</td>\n",
       "      <td>samueloreoluwa4@gmail.com</td>\n",
       "    </tr>\n",
       "  </tbody>\n",
       "</table>\n",
       "</div>"
      ],
      "text/plain": [
       "   Last_name First_name Phone_number Location                     E-mail\n",
       "0  AKINLABI     Samuel   07012659092    Lagos  samueloreoluwa4@gmail.com"
      ]
     },
     "execution_count": 3,
     "metadata": {},
     "output_type": "execute_result"
    }
   ],
   "source": [
    "\n",
    "data = {\"Last_name\":name1, 'First_name':name2, \"Phone_number\":phone, \"Location\":loc, \"E-mail\":mail}\n",
    "pinfo = pd.DataFrame(data)\n",
    "pinfo"
   ]
  },
  {
   "cell_type": "code",
   "execution_count": 4,
   "metadata": {},
   "outputs": [
    {
     "data": {
      "text/html": [
       "<div>\n",
       "<style scoped>\n",
       "    .dataframe tbody tr th:only-of-type {\n",
       "        vertical-align: middle;\n",
       "    }\n",
       "\n",
       "    .dataframe tbody tr th {\n",
       "        vertical-align: top;\n",
       "    }\n",
       "\n",
       "    .dataframe thead th {\n",
       "        text-align: right;\n",
       "    }\n",
       "</style>\n",
       "<table border=\"1\" class=\"dataframe\">\n",
       "  <thead>\n",
       "    <tr style=\"text-align: right;\">\n",
       "      <th></th>\n",
       "      <th>Degree</th>\n",
       "      <th>Program</th>\n",
       "      <th>University</th>\n",
       "      <th>Admission_year</th>\n",
       "      <th>Graduating_year</th>\n",
       "    </tr>\n",
       "  </thead>\n",
       "  <tbody>\n",
       "    <tr>\n",
       "      <th>0</th>\n",
       "      <td>B Eng.</td>\n",
       "      <td>Aeronautical and Astronautical Engineering</td>\n",
       "      <td>Meara State University, Malete</td>\n",
       "      <td>2017</td>\n",
       "      <td>2022</td>\n",
       "    </tr>\n",
       "  </tbody>\n",
       "</table>\n",
       "</div>"
      ],
      "text/plain": [
       "   Degree                                      Program  \\\n",
       "0  B Eng.  Aeronautical and Astronautical Engineering    \n",
       "\n",
       "                       University Admission_year Graduating_year  \n",
       "0  Meara State University, Malete           2017            2022  "
      ]
     },
     "execution_count": 4,
     "metadata": {},
     "output_type": "execute_result"
    }
   ],
   "source": [
    "data1 = {\"Degree\":degr, \"Program\":prog, \"University\":uni, \"Admission_year\":yr1, \"Graduating_year\":yr2}\n",
    "Edu = pd.DataFrame(data1)\n",
    "Edu"
   ]
  },
  {
   "cell_type": "code",
   "execution_count": 5,
   "metadata": {},
   "outputs": [
    {
     "data": {
      "text/html": [
       "<div>\n",
       "<style scoped>\n",
       "    .dataframe tbody tr th:only-of-type {\n",
       "        vertical-align: middle;\n",
       "    }\n",
       "\n",
       "    .dataframe tbody tr th {\n",
       "        vertical-align: top;\n",
       "    }\n",
       "\n",
       "    .dataframe thead th {\n",
       "        text-align: right;\n",
       "    }\n",
       "</style>\n",
       "<table border=\"1\" class=\"dataframe\">\n",
       "  <thead>\n",
       "    <tr style=\"text-align: right;\">\n",
       "      <th></th>\n",
       "      <th>Position</th>\n",
       "      <th>Organisation</th>\n",
       "      <th>Year_spent</th>\n",
       "      <th>Top_achievement</th>\n",
       "      <th>Work_summary</th>\n",
       "      <th>Work_objective</th>\n",
       "    </tr>\n",
       "  </thead>\n",
       "  <tbody>\n",
       "    <tr>\n",
       "      <th>0</th>\n",
       "      <td>Teacher</td>\n",
       "      <td>Belgian International School</td>\n",
       "      <td>1</td>\n",
       "      <td>None</td>\n",
       "      <td>Teaching, although hard but easy to practice. ...</td>\n",
       "      <td>None</td>\n",
       "    </tr>\n",
       "  </tbody>\n",
       "</table>\n",
       "</div>"
      ],
      "text/plain": [
       "  Position                  Organisation Year_spent Top_achievement  \\\n",
       "0  Teacher  Belgian International School          1            None   \n",
       "\n",
       "                                        Work_summary Work_objective  \n",
       "0  Teaching, although hard but easy to practice. ...           None  "
      ]
     },
     "execution_count": 5,
     "metadata": {},
     "output_type": "execute_result"
    }
   ],
   "source": [
    "data2 = {\"Position\":pos, \"Organisation\":org, \"Year_spent\":yr, \"Top_achievement\":a, \"Work_summary\":Sum, \"Work_objective\":obj}\n",
    "wexp = pd.DataFrame(data2)\n",
    "wexp"
   ]
  },
  {
   "cell_type": "code",
   "execution_count": 6,
   "metadata": {
    "scrolled": true
   },
   "outputs": [
    {
     "data": {
      "text/html": [
       "<div>\n",
       "<style scoped>\n",
       "    .dataframe tbody tr th:only-of-type {\n",
       "        vertical-align: middle;\n",
       "    }\n",
       "\n",
       "    .dataframe tbody tr th {\n",
       "        vertical-align: top;\n",
       "    }\n",
       "\n",
       "    .dataframe thead th {\n",
       "        text-align: right;\n",
       "    }\n",
       "</style>\n",
       "<table border=\"1\" class=\"dataframe\">\n",
       "  <thead>\n",
       "    <tr style=\"text-align: right;\">\n",
       "      <th></th>\n",
       "      <th>0</th>\n",
       "      <th>1</th>\n",
       "      <th>2</th>\n",
       "      <th>3</th>\n",
       "      <th>4</th>\n",
       "    </tr>\n",
       "  </thead>\n",
       "  <tbody>\n",
       "    <tr>\n",
       "      <th>Samuel</th>\n",
       "      <td>Python</td>\n",
       "      <td>Machine learning</td>\n",
       "      <td>MATLAB</td>\n",
       "      <td>Microsoft Word</td>\n",
       "      <td>Microsoft Excel</td>\n",
       "    </tr>\n",
       "  </tbody>\n",
       "</table>\n",
       "</div>"
      ],
      "text/plain": [
       "              0                 1       2               3                4\n",
       "Samuel   Python  Machine learning  MATLAB  Microsoft Word  Microsoft Excel"
      ]
     },
     "execution_count": 6,
     "metadata": {},
     "output_type": "execute_result"
    }
   ],
   "source": [
    "Skill = pd.DataFrame(SK, index=SKL)\n",
    "Skill"
   ]
  },
  {
   "cell_type": "code",
   "execution_count": 7,
   "metadata": {},
   "outputs": [],
   "source": [
    "personal = pinfo.to_csv('Samuel_Personal_Information.csv')"
   ]
  },
  {
   "cell_type": "code",
   "execution_count": 8,
   "metadata": {},
   "outputs": [],
   "source": [
    "Education = Edu.to_csv(\"Samuel_Educational_Background.csv\")"
   ]
  },
  {
   "cell_type": "code",
   "execution_count": 9,
   "metadata": {},
   "outputs": [],
   "source": [
    "Experience = wexp.to_csv('Samuel_Work_Experience.csv')"
   ]
  },
  {
   "cell_type": "code",
   "execution_count": 10,
   "metadata": {},
   "outputs": [],
   "source": [
    "SKILL = Skill.to_csv(\"Samuel_Skill.csv\")"
   ]
  },
  {
   "cell_type": "code",
   "execution_count": null,
   "metadata": {},
   "outputs": [],
   "source": []
  }
 ],
 "metadata": {
  "kernelspec": {
   "display_name": "Python 3",
   "language": "python",
   "name": "python3"
  },
  "language_info": {
   "codemirror_mode": {
    "name": "ipython",
    "version": 3
   },
   "file_extension": ".py",
   "mimetype": "text/x-python",
   "name": "python",
   "nbconvert_exporter": "python",
   "pygments_lexer": "ipython3",
   "version": "3.7.2"
  }
 },
 "nbformat": 4,
 "nbformat_minor": 2
}
