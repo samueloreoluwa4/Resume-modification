{
 "cells": [
  {
   "cell_type": "code",
   "execution_count": 1,
   "metadata": {},
   "outputs": [],
   "source": [
    "import pandas as pd\n",
    "import numpy as np"
   ]
  },
  {
   "cell_type": "code",
   "execution_count": 2,
   "metadata": {
    "scrolled": true
   },
   "outputs": [
    {
     "name": "stdout",
     "output_type": "stream",
     "text": [
      "Last name:  AKINLABI\n",
      "First name:  Samuel\n",
      "Phone number:  07012659092\n",
      "Location:  Lagos\n",
      "E-mail:  samueloreoluwa4@gmail.com\n",
      "Have you had any work experience: Yes/No\n",
      "yes\n",
      "Enter the position in your resent job:Teacher\n",
      "Enter the name of the organization you worked in:Belvis International School\n",
      "Enter the number of year spent in the job:3 months\n",
      "Please type in your work summary:I worked as a teacher for 3 month which was my only allowable time, during his period, I learned about leadership, teamwork. It was a great experience an im hoping it will be useful in the jobs I will take in the future \n",
      "Top Achievement during your working period:None\n",
      "Skills: (use ',' to seperate the skill from another):\n",
      "Python, Machine Learning, Leadership, Microsoft word, Microsoft excel\n"
     ]
    }
   ],
   "source": [
    "count = 1\n",
    "name1 = []\n",
    "name2 = []\n",
    "phone = []\n",
    "loc = []\n",
    "mail = []\n",
    "pos = []\n",
    "org = []\n",
    "yr = []\n",
    "expr = []\n",
    "Sum = []\n",
    "obj = []\n",
    "a = []\n",
    "SK = []\n",
    "lname = input(\"Last name:  \")\n",
    "name1.append(lname)\n",
    "fname = input(\"First name:  \")\n",
    "name2.append(fname)\n",
    "Tel = input(\"Phone number:  \")\n",
    "phone.append(Tel)\n",
    "location = input(\"Location:  \")\n",
    "loc.append(location)\n",
    "email = input(\"E-mail:  \")\n",
    "mail.append(email)\n",
    "\n",
    "wrk = input(\"Have you had any work experience: Yes/No\\n\")\n",
    "if wrk == \"yes\" and \"Yes\":\n",
    "    position = input('Enter the position in your resent job:')\n",
    "    pos.append(position)\n",
    "    organization = input('Enter the name of the organization you worked in:')\n",
    "    org.append(organization)\n",
    "    years = input(\"Enter the number of year spent in the job:\")\n",
    "    yr.append(years)\n",
    "    work = input('Please type in your work summary:')\n",
    "    Sum.append(work)\n",
    "    tp_ach = input('Top Achievement during your working period:')\n",
    "    a.append(tp_ach)\n",
    "    obj.append('None')\n",
    "else:\n",
    "    works = input('Please type in your objective/aim for the work:')\n",
    "    obj.append(works)\n",
    "    pos.append('None')\n",
    "    org.append('None')\n",
    "    yr.append('None')\n",
    "    Sum.append('None')\n",
    "    a.append('None')\n",
    "\n",
    "skills = list(input(\"Skills: (use ',' to seperate the skill from another):\\n\").split(\", \"))\n",
    "SK.append(skills)"
   ]
  },
  {
   "cell_type": "code",
   "execution_count": 47,
   "metadata": {},
   "outputs": [
    {
     "name": "stdout",
     "output_type": "stream",
     "text": [
      "Do you want to input another personal information(yes/no): yes\n",
      "Last name:  Are\n",
      "First name:  Victor\n",
      "Phone number:  07069395130\n",
      "Location:  Ilorin\n",
      "E-mail:  arevictor75@gmail.com\n",
      "Have you had any work experience: Yes/No\n",
      "yes\n",
      "Enter the position in your resent job:Sales  Director\n",
      "Enter the name of the organization you worked in:Kerith table water company\n",
      "Enter the number of year spent in the job:3\n",
      "Please type in your work summary:It has really given me a veiw of the market and how to deal with customers. I hope to do better in my next job and help solve problems .\n",
      "Top Achievement during your working period:None\n",
      "Skills: (use ',' to seperate the skill from another):\n",
      "AutoCad, Microsoft office\n",
      "Do you want to input another personal information(yes/no): no\n"
     ]
    }
   ],
   "source": [
    "# To add another personnal information, run this block again\n",
    "while True:\n",
    "    r = input(\"Do you want to input another personal information(yes/no): \")\n",
    "    if r == 'yes'and'Yes':\n",
    "        count += 1\n",
    "        lname = input(\"Last name:  \")\n",
    "        name1.append(lname)\n",
    "        fname = input(\"First name:  \")\n",
    "        name2.append(fname)\n",
    "        Tel = input(\"Phone number:  \")\n",
    "        phone.append(Tel)\n",
    "        location = input(\"Location:  \")\n",
    "        loc.append(location)\n",
    "        email = input(\"E-mail:  \")\n",
    "        mail.append(email)\n",
    "        \n",
    "        wrk = input(\"Have you had any work experience: Yes/No\\n\")\n",
    "        if wrk == \"yes\" and \"Yes\":\n",
    "            position = input('Enter the position in your resent job:')\n",
    "            pos.append(position)\n",
    "            organization = input('Enter the name of the organization you worked in:')\n",
    "            org.append(organization)\n",
    "            years = input(\"Enter the number of year spent in the job:\")\n",
    "            yr.append(years)\n",
    "            work = input('Please type in your work summary:')\n",
    "            Sum.append(work)\n",
    "            tp_ach = input('Top Achievement during your working period:')\n",
    "            a.append(tp_ach)\n",
    "            obj.append('None')\n",
    "            \n",
    "        else:\n",
    "            works = input('Please type in your objective/aim for the work:')\n",
    "            obj.append(works)\n",
    "            pos.append('None')\n",
    "            org.append('None')\n",
    "            yr.append('None')\n",
    "            Sum.append('None')\n",
    "            a.append('None')\n",
    "            \n",
    "        skills = list(input(\"Skills: (use ',' to seperate the skill from another):\\n\").split(\", \"))\n",
    "        SK.append(skills)\n",
    "    else:\n",
    "        break"
   ]
  },
  {
   "cell_type": "code",
   "execution_count": 3,
   "metadata": {
    "scrolled": true
   },
   "outputs": [
    {
     "data": {
      "text/html": [
       "<div>\n",
       "<style scoped>\n",
       "    .dataframe tbody tr th:only-of-type {\n",
       "        vertical-align: middle;\n",
       "    }\n",
       "\n",
       "    .dataframe tbody tr th {\n",
       "        vertical-align: top;\n",
       "    }\n",
       "\n",
       "    .dataframe thead th {\n",
       "        text-align: right;\n",
       "    }\n",
       "</style>\n",
       "<table border=\"1\" class=\"dataframe\">\n",
       "  <thead>\n",
       "    <tr style=\"text-align: right;\">\n",
       "      <th></th>\n",
       "      <th>Last_name</th>\n",
       "      <th>First_name</th>\n",
       "      <th>Phone_number</th>\n",
       "      <th>Location</th>\n",
       "      <th>E-mail</th>\n",
       "    </tr>\n",
       "  </thead>\n",
       "  <tbody>\n",
       "    <tr>\n",
       "      <th>0</th>\n",
       "      <td>AKINLABI</td>\n",
       "      <td>Samuel</td>\n",
       "      <td>07012659092</td>\n",
       "      <td>Lagos</td>\n",
       "      <td>samueloreoluwa4@gmail.com</td>\n",
       "    </tr>\n",
       "  </tbody>\n",
       "</table>\n",
       "</div>"
      ],
      "text/plain": [
       "  Last_name First_name Phone_number Location                     E-mail\n",
       "0  AKINLABI     Samuel  07012659092    Lagos  samueloreoluwa4@gmail.com"
      ]
     },
     "execution_count": 3,
     "metadata": {},
     "output_type": "execute_result"
    }
   ],
   "source": [
    "data = {\"Last_name\":name1, 'First_name':name2, \"Phone_number\":phone, \"Location\":loc, \"E-mail\":mail}\n",
    "pinfo = pd.DataFrame(data)\n",
    "pinfo"
   ]
  },
  {
   "cell_type": "code",
   "execution_count": 4,
   "metadata": {},
   "outputs": [
    {
     "data": {
      "text/html": [
       "<div>\n",
       "<style scoped>\n",
       "    .dataframe tbody tr th:only-of-type {\n",
       "        vertical-align: middle;\n",
       "    }\n",
       "\n",
       "    .dataframe tbody tr th {\n",
       "        vertical-align: top;\n",
       "    }\n",
       "\n",
       "    .dataframe thead th {\n",
       "        text-align: right;\n",
       "    }\n",
       "</style>\n",
       "<table border=\"1\" class=\"dataframe\">\n",
       "  <thead>\n",
       "    <tr style=\"text-align: right;\">\n",
       "      <th></th>\n",
       "      <th>Position</th>\n",
       "      <th>Organisation</th>\n",
       "      <th>Year_spent</th>\n",
       "      <th>Top_achievement</th>\n",
       "      <th>Work_summary</th>\n",
       "      <th>Work_objective</th>\n",
       "    </tr>\n",
       "  </thead>\n",
       "  <tbody>\n",
       "    <tr>\n",
       "      <th>0</th>\n",
       "      <td>Teacher</td>\n",
       "      <td>Belvis International School</td>\n",
       "      <td>3 months</td>\n",
       "      <td>None</td>\n",
       "      <td>I worked as a teacher for 3 month which was my...</td>\n",
       "      <td>None</td>\n",
       "    </tr>\n",
       "  </tbody>\n",
       "</table>\n",
       "</div>"
      ],
      "text/plain": [
       "  Position                 Organisation Year_spent Top_achievement  \\\n",
       "0  Teacher  Belvis International School   3 months            None   \n",
       "\n",
       "                                        Work_summary Work_objective  \n",
       "0  I worked as a teacher for 3 month which was my...           None  "
      ]
     },
     "execution_count": 4,
     "metadata": {},
     "output_type": "execute_result"
    }
   ],
   "source": [
    "data1 = {\"Position\":pos, \"Organisation\":org, \"Year_spent\":yr, \"Top_achievement\":a, \"Work_summary\":Sum, \"Work_objective\":obj}\n",
    "wexp = pd.DataFrame(data1)\n",
    "wexp"
   ]
  },
  {
   "cell_type": "code",
   "execution_count": 7,
   "metadata": {},
   "outputs": [
    {
     "data": {
      "text/html": [
       "<div>\n",
       "<style scoped>\n",
       "    .dataframe tbody tr th:only-of-type {\n",
       "        vertical-align: middle;\n",
       "    }\n",
       "\n",
       "    .dataframe tbody tr th {\n",
       "        vertical-align: top;\n",
       "    }\n",
       "\n",
       "    .dataframe thead th {\n",
       "        text-align: right;\n",
       "    }\n",
       "</style>\n",
       "<table border=\"1\" class=\"dataframe\">\n",
       "  <thead>\n",
       "    <tr style=\"text-align: right;\">\n",
       "      <th></th>\n",
       "      <th>0</th>\n",
       "    </tr>\n",
       "  </thead>\n",
       "  <tbody>\n",
       "  </tbody>\n",
       "</table>\n",
       "</div>"
      ],
      "text/plain": [
       "Empty DataFrame\n",
       "Columns: [0]\n",
       "Index: []"
      ]
     },
     "execution_count": 7,
     "metadata": {},
     "output_type": "execute_result"
    }
   ],
   "source": [
    "data2 = pd.Series(SK)\n",
    "Skill = pd.DataFrame(data2)\n",
    "Skill"
   ]
  },
  {
   "cell_type": "code",
   "execution_count": 53,
   "metadata": {},
   "outputs": [],
   "source": [
    "personal = pinfo.to_csv('SamuelPersonalInformation.csv')"
   ]
  },
  {
   "cell_type": "code",
   "execution_count": 45,
   "metadata": {},
   "outputs": [],
   "source": [
    "Experience = wexp.to_csv('SamuelWorkExperience.csv')"
   ]
  },
  {
   "cell_type": "code",
   "execution_count": 46,
   "metadata": {},
   "outputs": [],
   "source": [
    "SKILL = Skill.to_csv(\"SamuelSkill.csv\")"
   ]
  }
 ],
 "metadata": {
  "kernelspec": {
   "display_name": "Python 3",
   "language": "python",
   "name": "python3"
  },
  "language_info": {
   "codemirror_mode": {
    "name": "ipython",
    "version": 3
   },
   "file_extension": ".py",
   "mimetype": "text/x-python",
   "name": "python",
   "nbconvert_exporter": "python",
   "pygments_lexer": "ipython3",
   "version": "3.7.2"
  }
 },
 "nbformat": 4,
 "nbformat_minor": 2
}
